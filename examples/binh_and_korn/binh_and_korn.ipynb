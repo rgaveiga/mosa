{
 "cells": [
  {
   "cell_type": "markdown",
   "metadata": {},
   "source": [
    "## Binh and Korn function \n",
    "\n",
    "Problem taken from \\[Binh T. and Korn U. (1997) MOBES: A Multiobjective Evolution Strategy for Constrained Optimization Problems. In: Proceedings of the Third International Conference on Genetic Algorithms. Czech Republic. pp. 176–182\\], defined as follows:\n",
    "\n",
    "---\n",
    "\n",
    "*Minimize*\n",
    "\n",
    "$f_1 (x_1,x_2) = 4x_1^2+4x_2^2$\n",
    "\n",
    "$f_2 (x_1,x_2) = (x_1 - 5)^2+(x_2-5)^2$\n",
    "\n",
    "*subjected to*\n",
    "\n",
    "$(x_1 - 5)^2+x_2^2 \\le 25$\n",
    "\n",
    "$(x_1 - 8)^2+(x_2+3)^2 \\ge 7.7$\n",
    "\n",
    "*in the domain*\n",
    "\n",
    "$0 \\le x_1 \\le 5$\n",
    "\n",
    "$0 \\le x_2 \\le 3$"
   ]
  },
  {
   "cell_type": "code",
   "execution_count": 1,
   "metadata": {},
   "outputs": [],
   "source": [
    "import mosa\n",
    "from math import inf\n",
    "from numpy.random import seed\n",
    "\n",
    "%matplotlib inline"
   ]
  },
  {
   "cell_type": "code",
   "execution_count": 2,
   "metadata": {},
   "outputs": [
    {
     "name": "stdout",
     "output_type": "stream",
     "text": [
      "MOSA version: 0.7.0\n"
     ]
    }
   ],
   "source": [
    "print(f\"MOSA version: {mosa.__version__}\")"
   ]
  },
  {
   "cell_type": "code",
   "execution_count": 3,
   "metadata": {},
   "outputs": [],
   "source": [
    "seed(0)"
   ]
  },
  {
   "cell_type": "markdown",
   "metadata": {},
   "source": [
    "### Translates the Binh and Korn problem into Python code\n",
    "\n",
    "In the Python function *fobj* below, $f_1$ and $f_2$ are the objective functions to be minimized. \n",
    "\n",
    "The solution to the problem is given by $X_1$ and $X_2$. \n",
    "\n",
    "The constraints are defined as $c_1$ and $c_2$. If they are not fulfilled, infinity is assigned to $f_1$ and $f_2$."
   ]
  },
  {
   "cell_type": "code",
   "execution_count": 4,
   "metadata": {},
   "outputs": [],
   "source": [
    "def fobj(X1: float, X2: float) -> tuple:\n",
    "    f1 = 4.0 * (pow(X1, 2) + pow(X2, 2))\n",
    "    f2 = pow((X1 - 5), 2) + pow((X2 - 5), 2)\n",
    "\n",
    "    c1 = pow((X1 - 5), 2) + pow((X2), 2)\n",
    "    c2 = pow((X1 - 8), 2) + pow((X2 + 3), 2)\n",
    "\n",
    "    if c1 > 25.0 or c2 < 7.7:\n",
    "        f1 = inf\n",
    "        f2 = inf\n",
    "\n",
    "    return f1, f2"
   ]
  },
  {
   "cell_type": "markdown",
   "metadata": {},
   "source": [
    "### Initialization"
   ]
  },
  {
   "cell_type": "code",
   "execution_count": 5,
   "metadata": {},
   "outputs": [
    {
     "name": "stdout",
     "output_type": "stream",
     "text": [
      "--------------------------------------------------\n",
      "    MULTI-OBJECTIVE SIMULATED ANNEALING (MOSA)    \n",
      "--------------------------------------------------\n",
      "       Developed by Prof. Roberto Gomes, PhD      \n",
      "   Universidade Federal do ABC (UFABC), Brazil\n",
      "    \n"
     ]
    }
   ],
   "source": [
    "opt = mosa.Anneal()"
   ]
  },
  {
   "cell_type": "code",
   "execution_count": 6,
   "metadata": {},
   "outputs": [],
   "source": [
    "opt.set_population(X1=(0.0, 5.0), X2=(0.0, 3.0))"
   ]
  },
  {
   "cell_type": "code",
   "execution_count": 7,
   "metadata": {},
   "outputs": [],
   "source": [
    "opt.archive_size = 10000\n",
    "opt.maximum_archive_rejections = 10000"
   ]
  },
  {
   "cell_type": "markdown",
   "metadata": {},
   "source": [
    "### Hot run\n",
    "\n",
    "A first run starting at very high temperature (1000.0) is performed. This initial \"hot run\" helps the algorithm not to be trapped."
   ]
  },
  {
   "cell_type": "code",
   "execution_count": 8,
   "metadata": {},
   "outputs": [],
   "source": [
    "opt.initial_temperature = 1000.0\n",
    "opt.number_of_iterations = 1000\n",
    "opt.number_of_temperatures = 100\n",
    "opt.temperature_decrease_factor = 0.95"
   ]
  },
  {
   "cell_type": "code",
   "execution_count": 9,
   "metadata": {},
   "outputs": [],
   "source": [
    "opt.set_opt_param(\"number_of_elements\", X1=1, X2=1)\n",
    "opt.set_opt_param(\"mc_step_size\", X1=0.5, X2=0.3)"
   ]
  },
  {
   "cell_type": "code",
   "execution_count": 10,
   "metadata": {},
   "outputs": [
    {
     "name": "stdout",
     "output_type": "stream",
     "text": [
      "--- BEGIN: Evolving a solution ---\n",
      "\n",
      "Looking for a solution in the checkpoint file...\n",
      "No checkpoint file!\n",
      "Done!\n",
      "Trying to load the archive from file archive.json...\n",
      "File archive.json not found! Initializing an empty archive...\n",
      "Done!\n",
      "------\n",
      "\n",
      "Items in the solution:\n",
      "======================\n",
      "\n",
      "    X1:\n",
      "        Number of elements: 1\n",
      "        Sample space: continuous\n",
      "        Boundaries: (0.0,5.0)\n",
      "        Selection weight: 1.0\n",
      "        Weight of 'change value' trial move: 1.0\n",
      "        Sort values: False\n",
      "        Maximum step size: 0.5\n",
      "    X2:\n",
      "        Number of elements: 1\n",
      "        Sample space: continuous\n",
      "        Boundaries: (0.0,3.0)\n",
      "        Selection weight: 1.0\n",
      "        Weight of 'change value' trial move: 1.0\n",
      "        Sort values: False\n",
      "        Maximum step size: 0.3\n",
      "------\n",
      "Initializing with a random solution from scratch...\n",
      "Done!\n",
      "------\n",
      "Starting at temperature: 1000.000000\n",
      "Evolving solutions to the problem, please wait...\n",
      "Maximum number of temperatures reached!\n",
      "Stopping at temperature:  6.232136.\n",
      "------\n",
      "\n",
      "--- THE END ---\n",
      "CPU times: total: 3min 47s\n",
      "Wall time: 3min 56s\n"
     ]
    }
   ],
   "source": [
    "%%time\n",
    "opt.evolve(fobj)"
   ]
  },
  {
   "cell_type": "markdown",
   "metadata": {},
   "source": [
    "### Cold run\n",
    "\n",
    "After the \"hot run\", a \"cold run\" starting at a much lower temperature (1.0) is performed to allow the solutions to relax to the vicinity of the Pareto front."
   ]
  },
  {
   "cell_type": "code",
   "execution_count": 11,
   "metadata": {},
   "outputs": [],
   "source": [
    "opt.initial_temperature = 1.0"
   ]
  },
  {
   "cell_type": "code",
   "execution_count": 12,
   "metadata": {},
   "outputs": [],
   "source": [
    "opt.set_opt_param(\"mc_step_size\", X1=0.05, X2=0.03)"
   ]
  },
  {
   "cell_type": "code",
   "execution_count": 13,
   "metadata": {},
   "outputs": [
    {
     "name": "stdout",
     "output_type": "stream",
     "text": [
      "--- BEGIN: Evolving a solution ---\n",
      "\n",
      "Looking for a solution in the checkpoint file...\n",
      "Done!\n",
      "------\n",
      "\n",
      "Items in the solution:\n",
      "======================\n",
      "\n",
      "    X1:\n",
      "        Number of elements: 1\n",
      "        Sample space: continuous\n",
      "        Boundaries: (0.0,5.0)\n",
      "        Selection weight: 1.0\n",
      "        Weight of 'change value' trial move: 1.0\n",
      "        Sort values: False\n",
      "        Maximum step size: 0.05\n",
      "    X2:\n",
      "        Number of elements: 1\n",
      "        Sample space: continuous\n",
      "        Boundaries: (0.0,3.0)\n",
      "        Selection weight: 1.0\n",
      "        Weight of 'change value' trial move: 1.0\n",
      "        Sort values: False\n",
      "        Maximum step size: 0.03\n",
      "------\n",
      "Initial solution loaded from the checkpoint file...\n",
      "Done!\n",
      "------\n",
      "Starting at temperature: 1.000000\n",
      "Evolving solutions to the problem, please wait...\n",
      "Too many attempts to insert a solution in the archive failed!\n",
      "Stopping at temperature: 0.012140\n",
      "------\n",
      "\n",
      "--- THE END ---\n",
      "CPU times: total: 3min 21s\n",
      "Wall time: 3min 27s\n"
     ]
    }
   ],
   "source": [
    "%%time\n",
    "opt.evolve(fobj)"
   ]
  },
  {
   "cell_type": "markdown",
   "metadata": {},
   "source": [
    "### Output"
   ]
  },
  {
   "cell_type": "code",
   "execution_count": 14,
   "metadata": {
    "scrolled": true
   },
   "outputs": [
    {
     "name": "stdout",
     "output_type": "stream",
     "text": [
      "CPU times: total: 40.4 s\n",
      "Wall time: 41.3 s\n"
     ]
    }
   ],
   "source": [
    "%%time\n",
    "pruned = opt.prune_dominated()"
   ]
  },
  {
   "cell_type": "code",
   "execution_count": 15,
   "metadata": {
    "scrolled": true
   },
   "outputs": [
    {
     "data": {
      "image/png": "[encoded data removed]",
      "text/plain": [
       "<Figure size 640x480 with 1 Axes>"
      ]
     },
     "metadata": {},
     "output_type": "display_data"
    }
   ],
   "source": [
    "opt.plot_front(pruned)"
   ]
  },
  {
   "cell_type": "code",
   "execution_count": null,
   "metadata": {},
   "outputs": [],
   "source": []
  }
 ],
 "metadata": {
  "kernelspec": {
   "display_name": "Python 3 (ipykernel)",
   "language": "python",
   "name": "python3"
  },
  "language_info": {
   "codemirror_mode": {
    "name": "ipython",
    "version": 3
   },
   "file_extension": ".py",
   "mimetype": "text/x-python",
   "name": "python",
   "nbconvert_exporter": "python",
   "pygments_lexer": "ipython3",
   "version": "3.11.9"
  }
 },
 "nbformat": 4,
 "nbformat_minor": 4
}
