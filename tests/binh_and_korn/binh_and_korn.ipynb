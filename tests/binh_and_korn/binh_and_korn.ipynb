{
 "cells": [
  {
   "cell_type": "markdown",
   "metadata": {},
   "source": [
    "## Binh and Korn function \n",
    "\n",
    "Problem taken from \\[Binh T. and Korn U. (1997) MOBES: A Multiobjective Evolution Strategy for Constrained Optimization Problems. In: Proceedings of the Third International Conference on Genetic Algorithms. Czech Republic. pp. 176–182\\], defined as follows:\n",
    "\n",
    "---\n",
    "\n",
    "*Minimize*\n",
    "\n",
    "$f_1 (x_1,x_2) = 4x_1^2+4x_2^2$\n",
    "\n",
    "$f_2 (x_1,x_2) = (x_1 - 5)^2+(x_2-5)^2$\n",
    "\n",
    "*subjected to*\n",
    "\n",
    "$(x_1 - 5)^2+x_2^2 \\le 25$\n",
    "\n",
    "$(x_1 - 8)^2+(x_2+3)^2 \\ge 7.7$\n",
    "\n",
    "*in the domain*\n",
    "\n",
    "$0 \\le x_1 \\le 5$\n",
    "\n",
    "$0 \\le x_2 \\le 3$"
   ]
  },
  {
   "cell_type": "code",
   "execution_count": 1,
   "metadata": {},
   "outputs": [],
   "source": [
    "import mosa\n",
    "from math import inf\n",
    "from time import time\n",
    "from numpy.random import seed\n",
    "%matplotlib inline"
   ]
  },
  {
   "cell_type": "code",
   "execution_count": 2,
   "metadata": {},
   "outputs": [],
   "source": [
    "seed(0)"
   ]
  },
  {
   "cell_type": "markdown",
   "metadata": {},
   "source": [
    "### Translates the Binh and Korn problem into Python code\n",
    "\n",
    "In the Python function *fobj* below, $f_1$ and $f_2$ are the objective functions to be minimized. \n",
    "\n",
    "The argument of the Python function is a dictionary with two keys, $X_1$ and $X_2$, representing a trial solution to the problem. \n",
    "\n",
    "The constraints are defined as $c_1$ and $c_2$. If they are not fulfilled, infinity is assigned to $f_1$ and $f_2$."
   ]
  },
  {
   "cell_type": "code",
   "execution_count": 3,
   "metadata": {},
   "outputs": [],
   "source": [
    "def fobj(solution):\n",
    "    f1=4.0*(pow(solution[\"X1\"],2)+pow(solution[\"X2\"],2))\n",
    "    f2=pow((solution[\"X1\"]-5),2)+pow((solution[\"X2\"]-5),2)\n",
    "    c1=pow((solution[\"X1\"]-5),2)+pow((solution[\"X2\"]),2)\n",
    "    c2=pow((solution[\"X1\"]-8),2)+pow((solution[\"X2\"]+3),2)\n",
    "\n",
    "    if c1>25.0 or c2<7.7:\n",
    "        f1=inf\n",
    "        f2=inf\n",
    "    \n",
    "    return f1,f2"
   ]
  },
  {
   "cell_type": "markdown",
   "metadata": {},
   "source": [
    "### Initialization\n",
    "\n",
    "First, an *Anneal* object is created.\n",
    "\n",
    "Then, a population is defined. The population is a dictionary and its keys are the keys that will be present in the trial solutions to the problem. \n",
    "\n",
    "In the case of the Binh and Korn problem, we used two keys, $X_1$ and $X_2$. Since the sample space is continuous for $X_1$ and $X_2$ in the domain defined above, tuples containing two values (i.e., the lower and upper bounds) are assigned to these keys."
   ]
  },
  {
   "cell_type": "code",
   "execution_count": 4,
   "metadata": {},
   "outputs": [
    {
     "name": "stdout",
     "output_type": "stream",
     "text": [
      "--------------------------------------------------\n",
      "    MULTI-OBJECTIVE SIMULATED ANNEALING (MOSA)    \n",
      "--------------------------------------------------\n",
      "         Developed by Prof. Roberto Gomes         \n",
      "   Universidade Federal do ABC (UFABC), Brazil    \n",
      "\n",
      "\n",
      "MOSA version: 0.4.9\n"
     ]
    }
   ],
   "source": [
    "opt=mosa.Anneal()\n",
    "opt.archive_size=10000\n",
    "opt.maximum_archive_rejections=10000\n",
    "\n",
    "print(\"MOSA version: %s\" % mosa.__version__)"
   ]
  },
  {
   "cell_type": "code",
   "execution_count": 5,
   "metadata": {},
   "outputs": [],
   "source": [
    "opt.population={\"X1\":(0.0,5.0),\"X2\":(0.0,3.0)}"
   ]
  },
  {
   "cell_type": "markdown",
   "metadata": {},
   "source": [
    "### Hot run\n",
    "\n",
    "A first run starting at very high temperatures (1000.0) is performed. This initial \"hot run\" apparently helps the algorithm not to be trapped in specific regions of the solution space, which ends up in the algorithm missing the Pareto front. \n",
    "\n",
    "The optimization process itself is carried out by the function *evolve*, which takes the *fobj* function above as argument."
   ]
  },
  {
   "cell_type": "code",
   "execution_count": 6,
   "metadata": {},
   "outputs": [],
   "source": [
    "opt.initial_temperature=1000.0\n",
    "opt.number_of_iterations=1000\n",
    "opt.number_of_temperatures=100\n",
    "opt.temperature_decrease_factor=0.95\n",
    "opt.number_of_solution_elements={\"X1\":1,\"X2\":1}\n",
    "opt.mc_step_size={\"X1\":0.5,\"X2\":0.3}"
   ]
  },
  {
   "cell_type": "code",
   "execution_count": 7,
   "metadata": {},
   "outputs": [
    {
     "name": "stdout",
     "output_type": "stream",
     "text": [
      "--- BEGIN: Evolving a solution ---\n",
      "\n",
      "Looking for a solution in the checkpoint file...\n",
      "No checkpoint file!\n",
      "Done!\n",
      "Trying to load the archive from file archive.json...\n",
      "File archive.json not found! Initializing an empty archive...\n",
      "Done!\n",
      "------\n",
      "Keys in the population/solution dictionaries:\n",
      "    ['X1']:\n",
      "        Number of elements in the solution: 1\n",
      "        Continuous sample space\n",
      "        Boundaries: (0.000000,5.000000)\n",
      "        Selection weight of this key: 1.000000\n",
      "        Weight of 'change value' trial move: 1.000000\n",
      "        Solution sorted after trial move: False\n",
      "        Maximum step size to choose a new value in the solution: 0.500000\n",
      "    ['X2']:\n",
      "        Number of elements in the solution: 1\n",
      "        Continuous sample space\n",
      "        Boundaries: (0.000000,3.000000)\n",
      "        Selection weight of this key: 1.000000\n",
      "        Weight of 'change value' trial move: 1.000000\n",
      "        Solution sorted after trial move: False\n",
      "        Maximum step size to choose a new value in the solution: 0.300000\n",
      "------\n",
      "Initializing with a random solution from scratch...\n",
      "Done!\n",
      "------\n",
      "Starting at temperature: 1000.000000\n",
      "Evolving solutions to the problem, please wait...\n",
      "Maximum number of temperatures reached!\n",
      "Stopping at temperature:  6.232136\n",
      "------\n",
      "\n",
      "--- THE END ---\n",
      "   Elapsed time: 106.963157 s\n"
     ]
    }
   ],
   "source": [
    "start=time()\n",
    "opt.evolve(fobj)\n",
    "end=time()\n",
    "print(\"   Elapsed time: %f s\" % (end-start))"
   ]
  },
  {
   "cell_type": "markdown",
   "metadata": {},
   "source": [
    "### Cold run\n",
    "\n",
    "After the \"hot run\", a \"cold run\" starting at a much lower temperature (1.0) is performed to allow the solutions to relax to the vicinity of the Pareto front.\n",
    "\n",
    "Solutions produced by the \"hot run\" were taken from the archive."
   ]
  },
  {
   "cell_type": "code",
   "execution_count": 8,
   "metadata": {},
   "outputs": [],
   "source": [
    "opt.initial_temperature=1.0\n",
    "opt.number_of_iterations=1000\n",
    "opt.number_of_temperatures=100\n",
    "opt.temperature_decrease_factor=0.95\n",
    "opt.number_of_solution_elements={\"X1\":1,\"X2\":1}\n",
    "opt.mc_step_size={\"X1\":0.05,\"X2\":0.03}"
   ]
  },
  {
   "cell_type": "code",
   "execution_count": 9,
   "metadata": {},
   "outputs": [
    {
     "name": "stdout",
     "output_type": "stream",
     "text": [
      "--- BEGIN: Evolving a solution ---\n",
      "\n",
      "Looking for a solution in the checkpoint file...\n",
      "Done!\n",
      "------\n",
      "Keys in the population/solution dictionaries:\n",
      "    ['X1']:\n",
      "        Number of elements in the solution: 1\n",
      "        Continuous sample space\n",
      "        Boundaries: (0.000000,5.000000)\n",
      "        Selection weight of this key: 1.000000\n",
      "        Weight of 'change value' trial move: 1.000000\n",
      "        Solution sorted after trial move: False\n",
      "        Maximum step size to choose a new value in the solution: 0.050000\n",
      "    ['X2']:\n",
      "        Number of elements in the solution: 1\n",
      "        Continuous sample space\n",
      "        Boundaries: (0.000000,3.000000)\n",
      "        Selection weight of this key: 1.000000\n",
      "        Weight of 'change value' trial move: 1.000000\n",
      "        Solution sorted after trial move: False\n",
      "        Maximum step size to choose a new value in the solution: 0.030000\n",
      "------\n",
      "Initial solution loaded from the checkpoint file...\n",
      "Done!\n",
      "------\n",
      "Starting at temperature: 1.000000\n",
      "Evolving solutions to the problem, please wait...\n",
      "Too many attempts to insert a solution in the archive failed!\n",
      "Stopping at temperature: 0.012140\n",
      "------\n",
      "\n",
      "--- THE END ---\n",
      "   Elapsed time: 104.052268 s\n"
     ]
    }
   ],
   "source": [
    "start=time()\n",
    "opt.evolve(fobj)\n",
    "end=time()\n",
    "print(\"   Elapsed time: %f s\" % (end-start))"
   ]
  },
  {
   "cell_type": "markdown",
   "metadata": {},
   "source": [
    "### Output\n",
    "\n",
    "After eliminating the dominated solutions, the resulting Pareto front is displayed."
   ]
  },
  {
   "cell_type": "code",
   "execution_count": 10,
   "metadata": {
    "scrolled": true
   },
   "outputs": [
    {
     "name": "stdout",
     "output_type": "stream",
     "text": [
      "   Elapsed time: 22.595888 s\n"
     ]
    }
   ],
   "source": [
    "start=time()\n",
    "pruned=opt.prunedominated()\n",
    "end=time()\n",
    "print(\"   Elapsed time: %f s\" % (end-start))"
   ]
  },
  {
   "cell_type": "code",
   "execution_count": 11,
   "metadata": {
    "scrolled": true
   },
   "outputs": [
    {
     "data": {
      "image/png": "[encoded data removed]",
      "text/plain": [
       "<Figure size 432x288 with 1 Axes>"
      ]
     },
     "metadata": {
      "needs_background": "light"
     },
     "output_type": "display_data"
    }
   ],
   "source": [
    "opt.plotfront(pruned)"
   ]
  },
  {
   "cell_type": "code",
   "execution_count": null,
   "metadata": {},
   "outputs": [],
   "source": []
  }
 ],
 "metadata": {
  "kernelspec": {
   "display_name": "Python 3",
   "language": "python",
   "name": "python3"
  },
  "language_info": {
   "codemirror_mode": {
    "name": "ipython",
    "version": 3
   },
   "file_extension": ".py",
   "mimetype": "text/x-python",
   "name": "python",
   "nbconvert_exporter": "python",
   "pygments_lexer": "ipython3",
   "version": "3.7.6"
  }
 },
 "nbformat": 4,
 "nbformat_minor": 4
}
