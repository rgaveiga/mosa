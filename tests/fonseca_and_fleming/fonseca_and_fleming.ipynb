{
 "cells": [
  {
   "cell_type": "markdown",
   "metadata": {},
   "source": [
    "## Fonseca and Fleming function \n",
    "\n",
    "Problem taken from \\[Fonseca, C. M.; Fleming, P. J. (1995). An Overview of Evolutionary Algorithms in Multiobjective Optimization. Evol Comput. 3 (1): 1–16\\], defined as follows:\n",
    "\n",
    "---\n",
    "\n",
    "*Minimize*\n",
    "\n",
    "$f_1 (x_1,x_2,x_3) = 1-\\exp \\left[ -\\sum \\limits_{i=1}^3 \\left(x_i - \\frac{1}{\\sqrt{3}} \\right)^2 \\right]$\n",
    "\n",
    "$f_2 (x_1,x_2,x_3) = 1-\\exp \\left[ -\\sum \\limits_{i=1}^3 \\left(x_i + \\frac{1}{\\sqrt{3}} \\right)^2 \\right]$\n",
    "\n",
    "*in the domain*\n",
    "\n",
    "$-4 \\le x_1,x_2,x_3 \\le 4$"
   ]
  },
  {
   "cell_type": "code",
   "execution_count": 1,
   "metadata": {},
   "outputs": [],
   "source": [
    "import mosa\n",
    "from time import time\n",
    "from math import exp,sqrt\n",
    "from numpy.random import seed\n",
    "%matplotlib inline"
   ]
  },
  {
   "cell_type": "code",
   "execution_count": 2,
   "metadata": {},
   "outputs": [],
   "source": [
    "seed(0)"
   ]
  },
  {
   "cell_type": "markdown",
   "metadata": {},
   "source": [
    "### Translates the Fonseca and Fleming problem into Python code\n",
    "\n",
    "In the Python function *fobj* below, $f_1$ and $f_2$ are the functions to be minimized. \n",
    "\n",
    "The argument of the Python function is a dictionary with just one key, $X$, representing a trial solution to the problem. \n",
    "\n",
    "This is a unconstrained problem, so we do not have to worry about how to deal with constraints."
   ]
  },
  {
   "cell_type": "code",
   "execution_count": 3,
   "metadata": {},
   "outputs": [],
   "source": [
    "def fobj(solution):\n",
    "    g1=0.0\n",
    "    g2=0.0\n",
    "    Y=1.0/sqrt(3.0)\n",
    "    \n",
    "    for i in range(3):\n",
    "        g1+=pow((solution[\"X\"][i]-Y),2)\n",
    "        g2+=pow((solution[\"X\"][i]+Y),2)\n",
    "        \n",
    "    f1=1.0-exp(-g1)\n",
    "    f2=1.0-exp(-g2)\n",
    "    \n",
    "    return f1,f2"
   ]
  },
  {
   "cell_type": "markdown",
   "metadata": {},
   "source": [
    "### Initialization\n",
    "\n",
    "First, an *Anneal* object is created.\n",
    "\n",
    "Then, a population is defined. The population is a dictionary and its key $X$ is the same key that will be present in the trial solutions to the problem. \n",
    "\n",
    "In the case of the Fonseca and Fleming problem, we used only one key because the variables $x_1$, $x_2$ and $x_3$ are restricted to the same domain. Since the sample space is continuous for $X$ in the domain defined above, a tuple with two values (i.e., the lower and upper bounds) is assigned to $X$."
   ]
  },
  {
   "cell_type": "code",
   "execution_count": 4,
   "metadata": {},
   "outputs": [
    {
     "name": "stdout",
     "output_type": "stream",
     "text": [
      "--------------------------------------------------\n",
      "    MULTI-OBJECTIVE SIMULATED ANNEALING (MOSA)    \n",
      "--------------------------------------------------\n",
      "         Developed by Prof. Roberto Gomes         \n",
      "   Universidade Federal do ABC (UFABC), Brazil    \n",
      "\n",
      "\n",
      "MOSA version: 0.4.9\n"
     ]
    }
   ],
   "source": [
    "opt=mosa.Anneal()\n",
    "opt.archive_size=10000\n",
    "opt.maximum_archive_rejections=10000\n",
    "\n",
    "print(\"MOSA version: %s\" % mosa.__version__)"
   ]
  },
  {
   "cell_type": "code",
   "execution_count": 5,
   "metadata": {},
   "outputs": [],
   "source": [
    "opt.population={\"X\":(-4.0,4.0)}"
   ]
  },
  {
   "cell_type": "markdown",
   "metadata": {},
   "source": [
    "### Hot run\n",
    "\n",
    "A first run starting at very high temperatures (1.0) is performed. This initial \"hot run\" apparently helps the algorithm not to be trapped in specific regions of the solution space, which ends up in the algorithm missing the Pareto front. \n",
    "\n",
    "The optimization algorithm itself is carried out by the function *evolve*, which takes the *fobj* function above as argument."
   ]
  },
  {
   "cell_type": "code",
   "execution_count": 6,
   "metadata": {},
   "outputs": [],
   "source": [
    "opt.initial_temperature=1.0\n",
    "opt.number_of_iterations=1000\n",
    "opt.number_of_temperatures=100\n",
    "opt.temperature_decrease_factor=0.95\n",
    "opt.number_of_solution_elements={\"X\":3}\n",
    "opt.mc_step_size={\"X\":1.0}"
   ]
  },
  {
   "cell_type": "code",
   "execution_count": 7,
   "metadata": {},
   "outputs": [
    {
     "name": "stdout",
     "output_type": "stream",
     "text": [
      "--- BEGIN: Evolving a solution ---\n",
      "\n",
      "Looking for a solution in the checkpoint file...\n",
      "No checkpoint file!\n",
      "Done!\n",
      "Trying to load the archive from file archive.json...\n",
      "File archive.json not found! Initializing an empty archive...\n",
      "Done!\n",
      "------\n",
      "Keys in the population/solution dictionaries:\n",
      "    ['X']:\n",
      "        Number of elements in the solution: 3\n",
      "        Continuous sample space\n",
      "        Boundaries: (-4.000000,4.000000)\n",
      "        Selection weight of this key: 1.000000\n",
      "        Weight of 'change value' trial move: 1.000000\n",
      "        Solution sorted after trial move: False\n",
      "        Maximum step size to choose a new value in the solution: 1.000000\n",
      "------\n",
      "Initializing with a random solution from scratch...\n",
      "Done!\n",
      "------\n",
      "Starting at temperature: 1.000000\n",
      "Evolving solutions to the problem, please wait...\n",
      "Maximum number of temperatures reached!\n",
      "Stopping at temperature:  0.006232\n",
      "------\n",
      "\n",
      "--- THE END ---\n",
      "   Elapsed time: 23.692434 s\n"
     ]
    }
   ],
   "source": [
    "start=time()\n",
    "opt.evolve(fobj)\n",
    "end=time()\n",
    "print(\"   Elapsed time: %f s\" % (end-start))"
   ]
  },
  {
   "cell_type": "markdown",
   "metadata": {},
   "source": [
    "### Cold run\n",
    "\n",
    "After the \"hot run\", a \"cold run\" starting at a much lower temperature (0.01) is performed to allow the solutions to relax to the vicinity of the Pareto front.\n",
    "\n",
    "Solutions produced by the \"hot run\" were taken from the archive."
   ]
  },
  {
   "cell_type": "code",
   "execution_count": 8,
   "metadata": {},
   "outputs": [],
   "source": [
    "opt.initial_temperature=0.01\n",
    "opt.mc_step_size={\"X\":0.1}"
   ]
  },
  {
   "cell_type": "code",
   "execution_count": 9,
   "metadata": {},
   "outputs": [
    {
     "name": "stdout",
     "output_type": "stream",
     "text": [
      "--- BEGIN: Evolving a solution ---\n",
      "\n",
      "Looking for a solution in the checkpoint file...\n",
      "Done!\n",
      "------\n",
      "Keys in the population/solution dictionaries:\n",
      "    ['X']:\n",
      "        Number of elements in the solution: 3\n",
      "        Continuous sample space\n",
      "        Boundaries: (-4.000000,4.000000)\n",
      "        Selection weight of this key: 1.000000\n",
      "        Weight of 'change value' trial move: 1.000000\n",
      "        Solution sorted after trial move: False\n",
      "        Maximum step size to choose a new value in the solution: 0.100000\n",
      "------\n",
      "Initial solution loaded from the checkpoint file...\n",
      "Done!\n",
      "------\n",
      "Starting at temperature: 0.010000\n",
      "Evolving solutions to the problem, please wait...\n",
      "Maximum number of temperatures reached!\n",
      "Stopping at temperature:  0.000062\n",
      "------\n",
      "\n",
      "--- THE END ---\n",
      "   Elapsed time: 15.301294 s\n"
     ]
    }
   ],
   "source": [
    "start=time()\n",
    "opt.evolve(fobj)\n",
    "end=time()\n",
    "print(\"   Elapsed time: %f s\" % (end-start))"
   ]
  },
  {
   "cell_type": "markdown",
   "metadata": {},
   "source": [
    "### Output\n",
    "\n",
    "After eliminating the dominated solutions, the resulting Pareto front is displayed."
   ]
  },
  {
   "cell_type": "code",
   "execution_count": 10,
   "metadata": {
    "scrolled": true
   },
   "outputs": [
    {
     "name": "stdout",
     "output_type": "stream",
     "text": [
      "   Elapsed time: 0.280581 s\n"
     ]
    }
   ],
   "source": [
    "start=time()\n",
    "pruned=opt.prunedominated()\n",
    "end=time()\n",
    "print(\"   Elapsed time: %f s\" % (end-start))"
   ]
  },
  {
   "cell_type": "code",
   "execution_count": 11,
   "metadata": {
    "scrolled": true
   },
   "outputs": [
    {
     "data": {
      "image/png": "[encoded data removed]",
      "text/plain": [
       "<Figure size 432x288 with 1 Axes>"
      ]
     },
     "metadata": {
      "needs_background": "light"
     },
     "output_type": "display_data"
    }
   ],
   "source": [
    "opt.plotfront(pruned)"
   ]
  },
  {
   "cell_type": "code",
   "execution_count": null,
   "metadata": {},
   "outputs": [],
   "source": []
  }
 ],
 "metadata": {
  "kernelspec": {
   "display_name": "Python 3",
   "language": "python",
   "name": "python3"
  },
  "language_info": {
   "codemirror_mode": {
    "name": "ipython",
    "version": 3
   },
   "file_extension": ".py",
   "mimetype": "text/x-python",
   "name": "python",
   "nbconvert_exporter": "python",
   "pygments_lexer": "ipython3",
   "version": "3.7.6"
  }
 },
 "nbformat": 4,
 "nbformat_minor": 4
}
