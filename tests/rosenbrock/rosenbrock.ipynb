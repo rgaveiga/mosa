{
 "cells": [
  {
   "cell_type": "markdown",
   "metadata": {},
   "source": [
    "## Rosenbrock (for *n*=3) \n",
    "\n",
    "Problem taken from \\[Rosenbrock, H. H. (1960) \"An automatic method for finding the greatest or least value of a function\", The Computer Journal. 3 (3): 175–184\\], defined as follows:\n",
    "\n",
    "---\n",
    "\n",
    "*Minimize*\n",
    "\n",
    "$f (x_i) = \\sum_{i=1}^{n-1} \\left[ 100 \\left( x_{i+1}-x_i^2 \\right)^2 + \\left(1 - x_i \\right)^2 \\right]$\n",
    "\n",
    "*where*\n",
    "\n",
    "n=3\n",
    "\n",
    "*in the domain*\n",
    "\n",
    "$-\\infty \\le x_i \\le \\infty $"
   ]
  },
  {
   "cell_type": "code",
   "execution_count": 1,
   "metadata": {},
   "outputs": [],
   "source": [
    "import mosa\n",
    "from math import cos,pi\n",
    "from numpy.random import seed\n",
    "%matplotlib inline"
   ]
  },
  {
   "cell_type": "code",
   "execution_count": 2,
   "metadata": {},
   "outputs": [],
   "source": [
    "seed(0)"
   ]
  },
  {
   "cell_type": "markdown",
   "metadata": {},
   "source": [
    "### Translates the Rosenbrock problem into Python code\n",
    "\n",
    "In the Python function *fobj* below, $f$ is the single objective function to be minimized. When returning *f*, the comma is necessary since the optimization algorithm expects a tuple.\n",
    "\n",
    "The argument of the Python function is a dictionary with one key, $X$, containing a list with three elements, representing a trial solution to the problem."
   ]
  },
  {
   "cell_type": "code",
   "execution_count": 3,
   "metadata": {},
   "outputs": [],
   "source": [
    "def fobj(solution):\n",
    "    f=0\n",
    "    \n",
    "    for i in range(2):\n",
    "        f+=100*((solution[\"X\"][i+1]-solution[\"X\"][i]**2)**2+(1-solution[\"X\"][i])**2)\n",
    "    \n",
    "    return f,"
   ]
  },
  {
   "cell_type": "markdown",
   "metadata": {},
   "source": [
    "### Initialization\n",
    "\n",
    "First, an *Anneal* object is created."
   ]
  },
  {
   "cell_type": "code",
   "execution_count": 4,
   "metadata": {},
   "outputs": [
    {
     "name": "stdout",
     "output_type": "stream",
     "text": [
      "--------------------------------------------------\n",
      "    MULTI-OBJECTIVE SIMULATED ANNEALING (MOSA)    \n",
      "--------------------------------------------------\n",
      "         Developed by Prof. Roberto Gomes         \n",
      "   Universidade Federal do ABC (UFABC), Brazil    \n",
      "\n",
      "\n",
      "MOSA version: 0.4.9\n"
     ]
    }
   ],
   "source": [
    "opt=mosa.Anneal()\n",
    "\n",
    "print(\"MOSA version: %s\" % mosa.__version__)"
   ]
  },
  {
   "cell_type": "markdown",
   "metadata": {},
   "source": [
    "Then, a population is defined. The population is a dictionary and its key is the same key that will be present in the trial solutions to the problem.\n",
    "\n",
    "In the case of Rosenbrock's problem, we use a single key, $X$. Since the sample space is continuous for $X$ in the domain defined above - which is unbounded, but for practical purposes we constrain it to be within (-100,100) - a tuple containing two values (i.e. the lower and upper bounds ) is assigned to this key."
   ]
  },
  {
   "cell_type": "code",
   "execution_count": 5,
   "metadata": {},
   "outputs": [],
   "source": [
    "opt.population={\"X\":(-100,100)}\n",
    "opt.archive_size=100\n",
    "opt.maximum_archive_rejections=10000\n",
    "opt.initial_temperature=10.0\n",
    "opt.number_of_iterations=1000\n",
    "opt.number_of_temperatures=100\n",
    "opt.temperature_decrease_factor=0.9\n",
    "opt.number_of_solution_elements={\"X\":3}\n",
    "opt.mc_step_size={\"X\":1.0}"
   ]
  },
  {
   "cell_type": "markdown",
   "metadata": {},
   "source": [
    "### Run\n",
    "\n",
    "The optimization process itself is carried out by the function *evolve*, which takes the *fobj* function above as argument."
   ]
  },
  {
   "cell_type": "code",
   "execution_count": 6,
   "metadata": {},
   "outputs": [
    {
     "name": "stdout",
     "output_type": "stream",
     "text": [
      "--- BEGIN: Evolving a solution ---\n",
      "\n",
      "Looking for a solution in the checkpoint file...\n",
      "No checkpoint file!\n",
      "Done!\n",
      "Trying to load the archive from file archive.json...\n",
      "File archive.json not found! Initializing an empty archive...\n",
      "Done!\n",
      "------\n",
      "Keys in the population/solution dictionaries:\n",
      "    ['X']:\n",
      "        Number of elements in the solution: 3\n",
      "        Continuous sample space\n",
      "        Boundaries: (-100.000000,100.000000)\n",
      "        Selection weight of this key: 1.000000\n",
      "        Weight of 'change value' trial move: 1.000000\n",
      "        Solution sorted after trial move: False\n",
      "        Maximum step size to choose a new value in the solution: 1.000000\n",
      "------\n",
      "Initializing with a random solution from scratch...\n",
      "Done!\n",
      "------\n",
      "Starting at temperature: 10.000000\n",
      "Evolving solutions to the problem, please wait...\n",
      "Too many attempts to insert a solution in the archive failed!\n",
      "Stopping at temperature: 0.797664\n",
      "------\n",
      "\n",
      "--- THE END ---\n",
      "Wall time: 1.92 s\n"
     ]
    }
   ],
   "source": [
    "%%time\n",
    "opt.evolve(fobj)"
   ]
  },
  {
   "cell_type": "markdown",
   "metadata": {},
   "source": [
    "### Output\n",
    "\n",
    "As this is a single objective problem, a single global optimal value was expected. The solution and the objective value found by the algorithm follow and approach the real ones, that is, $x_1=x_2=x_3=1$ and $f(x_1,x_2,x_3)=0$."
   ]
  },
  {
   "cell_type": "code",
   "execution_count": 7,
   "metadata": {},
   "outputs": [
    {
     "name": "stdout",
     "output_type": "stream",
     "text": [
      "===\n",
      "Solutions:\n",
      "1) {'X': [0.9945127249490315, 0.9930117253986606, 0.9828743912533988]}\n",
      "Values:\n",
      "1) [0.010482394916747965]\n"
     ]
    }
   ],
   "source": [
    "opt.printx()"
   ]
  },
  {
   "cell_type": "code",
   "execution_count": null,
   "metadata": {},
   "outputs": [],
   "source": []
  }
 ],
 "metadata": {
  "kernelspec": {
   "display_name": "Python 3",
   "language": "python",
   "name": "python3"
  },
  "language_info": {
   "codemirror_mode": {
    "name": "ipython",
    "version": 3
   },
   "file_extension": ".py",
   "mimetype": "text/x-python",
   "name": "python",
   "nbconvert_exporter": "python",
   "pygments_lexer": "ipython3",
   "version": "3.7.6"
  }
 },
 "nbformat": 4,
 "nbformat_minor": 4
}
